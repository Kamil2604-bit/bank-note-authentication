import pandas as pd
import numpy as np
from sklearn.cluster import KMeans
from sklearn.preprocessing import StandardScaler
import matplotlib.pyplot as plt
from sklearn.metrics import silhouette_score

# URL of the dataset (replace with your actual URL)
url = "https://raw.githubusercontent.com/jbrownlee/Datasets/master/banknote_authentication.csv"

try:
    # Load the dataset
    data = pd.read_csv(url)

    # Separate features and target variable (optional, if you want to compare with actual class labels)
    X = data.iloc[:, :-1].values
    y = data.iloc[:, -1].values

    # Scale the features (important for K-Means)
    scaler = StandardScaler()
    X_scaled = scaler.fit_transform(X)

    # Determine optimal number of clusters (using the elbow method and silhouette analysis)
    inertia = []
    silhouette_scores = []
    range_n_clusters = range(2, 11)  # Test different numbers of clusters

    for n_clusters in range_n_clusters:
        kmeans = KMeans(n_clusters=n_clusters, random_state=0)
        kmeans.fit(X_scaled)
        inertia.append(kmeans.inertia_)
        silhouette_avg = silhouette_score(X_scaled, kmeans.labels_)
        silhouette_scores.append(silhouette_avg)
        print(f"For n_clusters = {n_clusters}, the silhouette score is {silhouette_avg}")


    plt.plot(range_n_clusters, inertia, marker='o')
    plt.xlabel('Number of clusters')
    plt.ylabel('Inertia')
    plt.title('Elbow Method for Optimal k')
    plt.show()

    plt.plot(range_n_clusters, silhouette_scores, marker='o')
    plt.xlabel('Number of clusters')
    plt.ylabel('Silhouette Score')
    plt.title('Silhouette Analysis for Optimal k')
    plt.show()


    # Based on the Elbow method and Silhouette analysis, choose the optimal number of clusters (e.g., k=2)
    optimal_k = 2 # You might need to adjust this based on the plots

    # Perform K-Means clustering with the chosen k
    kmeans = KMeans(n_clusters=optimal_k, random_state=0)
    kmeans.fit(X_scaled)
    labels = kmeans.labels_

    # Add cluster labels to the original DataFrame (optional)
    data['cluster'] = labels

    # Analyze the clusters (e.g., print cluster centers and sizes)
    print("Cluster Centers:\n", kmeans.cluster_centers_)
    print("\nCluster Sizes:\n", pd.Series(labels).value_counts())

    # If you have the true class labels (y), you can compare the clustering results with them (e.g., using a confusion matrix)
    # ... (add code for comparison with ground truth if needed)


except Exception as e:
    print(f"An error occurred: {e}")
